{
 "cells": [
  {
   "cell_type": "code",
   "execution_count": null,
   "id": "68b78589-3231-4c8d-a42c-9535fb18a25c",
   "metadata": {},
   "outputs": [],
   "source": []
  },
  {
   "cell_type": "code",
   "execution_count": 1,
   "id": "a0935225-cce6-43bf-bc14-36264b71d43c",
   "metadata": {},
   "outputs": [],
   "source": [
    "## Keras imports\n",
    "import tensorflow as tf\n",
    "from tensorflow import keras\n",
    "from keras.models import Sequential, Model\n",
    "from keras.layers import Dense, Conv2D, MaxPool2D, BatchNormalization, Add\n",
    "from keras.layers import Input, Conv2D, ZeroPadding2D, Flatten, AveragePooling2D, Dense, Activation\n",
    "from keras import activations\n",
    "from keras.preprocessing.image import ImageDataGenerator\n",
    "from keras.regularizers import l2\n",
    "from keras.losses import CategoricalCrossentropy\n",
    "\n",
    "# Sklearn imports\n",
    "from sklearn.model_selection import train_test_split\n",
    "\n",
    "\n",
    "import os\n",
    "import numpy as np"
   ]
  },
  {
   "cell_type": "code",
   "execution_count": 2,
   "id": "0cc46e2a-f4c2-4c4a-b854-bc3806781701",
   "metadata": {},
   "outputs": [],
   "source": [
    "# from keras import backend as K\n",
    "# K.clear_session()"
   ]
  },
  {
   "cell_type": "code",
   "execution_count": 3,
   "id": "1fee1dc3-a112-434b-a348-1db04e5c7665",
   "metadata": {},
   "outputs": [],
   "source": [
    "import matplotlib.pyplot as plt\n",
    "import h5py\n"
   ]
  },
  {
   "cell_type": "code",
   "execution_count": 4,
   "id": "9021eeaf-a678-4749-abd8-b3b280edb40c",
   "metadata": {},
   "outputs": [],
   "source": [
    "## Local File Version\n",
    "# electronsFile = 'SingleElectronPt50_IMGCROPS_n249k_RHv1.hdf5'\n",
    "# photonsFile = 'SinglePhotonPt50_IMGCROPS_n249k_RHv1.hdf5'\n",
    "# electrons = h5py.File(electronsFile, 'r')\n",
    "# photons = h5py.File(photonsFile, 'r')\n",
    "\n",
    "## URL retrieval version\n",
    "import fsspec\n",
    "\n",
    "photonURL = 'https://cernbox.cern.ch/remote.php/dav/public-files/AtBT8y4MiQYFcgc/SinglePhotonPt50_IMGCROPS_n249k_RHv1.hdf5'\n",
    "electronURL = 'https://cernbox.cern.ch/remote.php/dav/public-files/FbXw3V4XNyYB3oA/SingleElectronPt50_IMGCROPS_n249k_RHv1.hdf5'\n",
    "\n",
    "remote_photons = fsspec.open(photonURL, mode=\"rb\")\n",
    "if hasattr(remote_photons, \"open\"):\n",
    "    remote_photons = remote_photons.open()\n",
    "photons = h5py.File(remote_photons)\n",
    "\n",
    "remote_electrons = fsspec.open(electronURL, mode=\"rb\")\n",
    "if hasattr(remote_electrons, \"open\"):\n",
    "    remote_electrons = remote_electrons.open()\n",
    "electrons = h5py.File(remote_electrons)\n"
   ]
  },
  {
   "cell_type": "code",
   "execution_count": 15,
   "id": "47598c65-1f6e-486d-bc1e-f1efb355e96d",
   "metadata": {},
   "outputs": [],
   "source": [
    "\n",
    "N_images = np.shape(electrons['X'][0])\n",
    "randPerm = np.random.permutation(N_images)\n",
    "\n",
    "\n",
    "# electronX = electrons['X']\n",
    "# electronY = electrons['y']\n",
    "# photonX = photons['X']\n",
    "# photonY = photons['y']\n",
    "\n",
    "# ## pre-allocate array\n",
    "# X = np.empty_like(electronX)\n",
    "# X"
   ]
  },
  {
   "cell_type": "code",
   "execution_count": 16,
   "id": "0894c801-ab41-4098-9b4e-45c8f9e962af",
   "metadata": {},
   "outputs": [],
   "source": [
    "\n",
    "electronX = electrons['X']\n",
    "electronY = electrons['y']\n",
    "photonX = photons['X']\n",
    "photonY = photons['y']\n",
    "X = np.concatenate((electronX, photonX))\n",
    "y = np.concatenate((electronY, photonY))\n",
    "X_train, X_test, y_train, y_test = train_test_split(X, y, test_size=0.20, random_state=42, shuffle=True)\n"
   ]
  },
  {
   "cell_type": "code",
   "execution_count": 17,
   "id": "ea3ff711-f6a9-4ee7-af34-084dd95304e9",
   "metadata": {},
   "outputs": [
    {
     "name": "stdout",
     "output_type": "stream",
     "text": [
      "(249000, 32, 32, 2)\n",
      "(249000, 32, 32, 2)\n"
     ]
    }
   ],
   "source": [
    "# hits = plt.imshow(electronX[0][:,:,0])\n",
    "# times = plt.imshow(electronX[0][:,:,1])\n",
    "\n",
    "# print(np.shape(electronX))\n",
    "# print(np.shape(photonX))\n"
   ]
  },
  {
   "cell_type": "code",
   "execution_count": null,
   "id": "8983ab20-af6c-477f-a8a8-6f28600f1a6d",
   "metadata": {},
   "outputs": [],
   "source": [
    "# # print(np.shape(X_train[0, :, :, :]))\n",
    "# print(np.shape(X_train))\n",
    "# print(np.shape(y_train))\n",
    "# X_train = X_train.reshape(-1, 32, 32, 2)\n",
    "# X_test = X_test.reshape(-1, 32, 32, 2)\n"
   ]
  },
  {
   "cell_type": "code",
   "execution_count": 18,
   "id": "398081c5-97ff-4dc3-ba83-851117fdff79",
   "metadata": {},
   "outputs": [
    {
     "data": {
      "text/plain": [
       "<matplotlib.image.AxesImage at 0x1dcec88fe20>"
      ]
     },
     "execution_count": 18,
     "metadata": {},
     "output_type": "execute_result"
    },
    {
     "data": {
      "image/png": "[encoded data removed]",
      "text/plain": [
       "<Figure size 640x480 with 1 Axes>"
      ]
     },
     "metadata": {},
     "output_type": "display_data"
    }
   ],
   "source": [
    "# hits = plt.imshow(electronX[0][:,:,0])\n",
    "# plt.imshow(X[0][:,:,0])"
   ]
  },
  {
   "cell_type": "code",
   "execution_count": null,
   "id": "bd70a3fb",
   "metadata": {},
   "outputs": [],
   "source": [
    "# dataset = tf.data.Dataset.from_tensor_slices(X_train)\n"
   ]
  },
  {
   "cell_type": "code",
   "execution_count": null,
   "id": "417b3d1f",
   "metadata": {},
   "outputs": [],
   "source": []
  },
  {
   "cell_type": "code",
   "execution_count": 19,
   "id": "ef195ba1-6c93-47c6-9113-f9c3ad4e6bd1",
   "metadata": {},
   "outputs": [],
   "source": [
    "# # ResNet50 Model\n",
    "#\n",
    "x_dim = 32\n",
    "y_dim = 32\n",
    "num_channels = 2\n",
    "\n",
    "def res_identity(x, filters):\n",
    "    x_skip = x # this will be used for addition with the residual block\n",
    "    f1, f2 = filters\n",
    "\n",
    "    #first block\n",
    "    x = Conv2D(f1, kernel_size=(1, 1), strides=(1, 1), padding='valid', kernel_regularizer=l2(0.001))(x)\n",
    "    x = BatchNormalization()(x)\n",
    "    x = Activation(activations.relu)(x)\n",
    "\n",
    "    #second block # bottleneck (but size kept same with padding)\n",
    "    x = Conv2D(f1, kernel_size=(3, 3), strides=(1, 1), padding='same', kernel_regularizer=l2(0.001))(x)\n",
    "    x = BatchNormalization()(x)\n",
    "    x = Activation(activations.relu)(x)\n",
    "\n",
    "    # third block activation used after adding the input\n",
    "    x = Conv2D(f2, kernel_size=(1, 1), strides=(1, 1), padding='valid', kernel_regularizer=l2(0.001))(x)\n",
    "    x = BatchNormalization()(x)\n",
    "    # x = Activation(activations.relu)(x)\n",
    "\n",
    "    # add the input\n",
    "    x = Add()([x, x_skip])\n",
    "    x = Activation(activations.relu)(x)\n",
    "\n",
    "    return x\n",
    "\n",
    "def res_conv(x, s, filters):\n",
    "\n",
    "    x_skip = x\n",
    "    f1, f2 = filters\n",
    "\n",
    "    # first block\n",
    "    x = Conv2D(f1, kernel_size=(1, 1), strides=(s, s), padding='valid', kernel_regularizer=l2(0.001))(x)\n",
    "    # when s = 2 then it is like downsizing the feature map\n",
    "    x = BatchNormalization()(x)\n",
    "    x = Activation(activations.relu)(x)\n",
    "\n",
    "    # second block\n",
    "    x = Conv2D(f1, kernel_size=(3, 3), strides=(1, 1), padding='same', kernel_regularizer=l2(0.001))(x)\n",
    "    x = BatchNormalization()(x)\n",
    "    x = Activation(activations.relu)(x)\n",
    "\n",
    "    #third block\n",
    "    x = Conv2D(f2, kernel_size=(1, 1), strides=(1, 1), padding='valid', kernel_regularizer=l2(0.001))(x)\n",
    "    x = BatchNormalization()(x)\n",
    "\n",
    "    # shortcut\n",
    "    x_skip = Conv2D(f2, kernel_size=(1, 1), strides=(s, s), padding='valid', kernel_regularizer=l2(0.001))(x_skip)\n",
    "    x_skip = BatchNormalization()(x_skip)\n",
    "\n",
    "    # add\n",
    "    x = Add()([x, x_skip])\n",
    "    x = Activation(activations.relu)(x)\n",
    "\n",
    "    return x\n",
    "\n",
    "\n",
    "def resnet50():\n",
    "\n",
    "    input_im = Input(shape=(x_dim, y_dim, num_channels)) # cifar 10 images size\n",
    "    x = ZeroPadding2D(padding=(3, 3))(input_im)\n",
    "\n",
    "    # 1st stage\n",
    "    # here we perform maxpooling, see the figure above\n",
    "\n",
    "    x = Conv2D(64, kernel_size=(7, 7), strides=(2, 2))(x)\n",
    "    x = BatchNormalization()(x)\n",
    "    x = Activation(activations.relu)(x)\n",
    "    x = MaxPool2D((3, 3), strides=(2, 2))(x)\n",
    "\n",
    "    #2nd stage\n",
    "    # frm here on only conv block and identity block, no pooling\n",
    "\n",
    "    x = res_conv(x, s=1, filters=(64, 256))\n",
    "    x = res_identity(x, filters=(64, 256))\n",
    "    x = res_identity(x, filters=(64, 256))\n",
    "\n",
    "    # 3rd stage\n",
    "\n",
    "    x = res_conv(x, s=2, filters=(128, 512))\n",
    "    x = res_identity(x, filters=(128, 512))\n",
    "    x = res_identity(x, filters=(128, 512))\n",
    "    x = res_identity(x, filters=(128, 512))\n",
    "\n",
    "    # 4th stage\n",
    "\n",
    "    x = res_conv(x, s=2, filters=(256, 1024))\n",
    "    x = res_identity(x, filters=(256, 1024))\n",
    "    x = res_identity(x, filters=(256, 1024))\n",
    "    x = res_identity(x, filters=(256, 1024))\n",
    "    x = res_identity(x, filters=(256, 1024))\n",
    "    x = res_identity(x, filters=(256, 1024))\n",
    "\n",
    "    # 5th stage\n",
    "\n",
    "    x = res_conv(x, s=2, filters=(512, 2048))\n",
    "    x = res_identity(x, filters=(512, 2048))\n",
    "    x = res_identity(x, filters=(512, 2048))\n",
    "\n",
    "    # ends with average pooling and dense connection\n",
    "\n",
    "    x = AveragePooling2D((2, 2), padding='same')(x)\n",
    "\n",
    "    x = Flatten()(x)\n",
    "    x = Dense(1, activation='sigmoid', kernel_initializer='he_normal')(x) #multi-class\n",
    "\n",
    "    # define the model\n",
    "\n",
    "    model = Model(inputs=input_im, outputs=x, name='Resnet50')\n",
    "\n",
    "    return model\n",
    "\n",
    "def create_model():\n",
    "    model = Sequential([\n",
    "        Conv2D(filters=4, kernel_size=(2, 2), input_shape=(32, 32, 2)),\n",
    "        Activation('relu'),\n",
    "        Flatten(),\n",
    "        Dense(units=8, activation='relu'),\n",
    "        Dense(units=1, activation='sigmoid')\n",
    "    ])\n",
    "\n",
    "    return model"
   ]
  },
  {
   "cell_type": "code",
   "execution_count": 20,
   "id": "c562b73a-9014-4d35-abcd-f34fc585f93c",
   "metadata": {},
   "outputs": [],
   "source": [
    "model = resNet50()\n",
    "# model = create_model()\n"
   ]
  },
  {
   "cell_type": "code",
   "execution_count": 21,
   "id": "78653c7a-4a9c-49c7-b5bc-0258c91dc818",
   "metadata": {},
   "outputs": [
    {
     "name": "stdout",
     "output_type": "stream",
     "text": [
      "Epoch 1/5\n",
      "12450/12450 [==============================] - 25s 1ms/step - loss: 0.0000e+00 - accuracy: 0.5000\n",
      "Epoch 2/5\n",
      "12450/12450 [==============================] - 12s 972us/step - loss: 0.0000e+00 - accuracy: 0.5000\n",
      "Epoch 3/5\n",
      "12450/12450 [==============================] - 12s 986us/step - loss: 0.0000e+00 - accuracy: 0.5000\n",
      "Epoch 4/5\n",
      "12450/12450 [==============================] - 13s 1ms/step - loss: 0.0000e+00 - accuracy: 0.5000\n",
      "Epoch 5/5\n",
      "12450/12450 [==============================] - 12s 1ms/step - loss: 0.0000e+00 - accuracy: 0.5000\n"
     ]
    }
   ],
   "source": [
    "### Hyperparameters ###\n",
    "n_epochs = 5\n",
    "init_lr = 7.5e-2\n",
    "# init_lr = float(sys.argv[1])\n",
    "decay_rate = 0.99\n",
    "# decay_rate = float(sys.argv[2])\n",
    "decay_steps = 100_000\n",
    "# lr_schedule = keras.optimizers.schedules.ExponentialDecay(\n",
    "#                     initial_learning_rate = init_lr,\n",
    "#                     decay_steps = decay_steps,\n",
    "#                     decay_rate = decay_rate)\n",
    "\n",
    "opt = keras.optimizers.Adam(learning_rate=0.01)\n",
    "\n",
    "model.compile(loss='categorical_crossentropy', \n",
    "              optimizer=opt,\n",
    "              metrics = ['accuracy'])\n",
    "\n",
    "# model.compile(loss='categorical_crossentropy',\n",
    "#                   optimizer = tf.keras.optimizers.SGD(learning_rate=lr_schedule),\n",
    "#                   metrics = ['accuracy'])\n",
    "\n",
    "es = keras.callbacks.EarlyStopping(monitor='val_loss', patience=3, restore_best_weights=True)\n",
    "\n",
    "history = model.fit(X_train, y_train, epochs = n_epochs, verbose = 1)\n",
    "\n",
    "\n",
    "\n",
    "train_accuracy = history.history['accuracy']\n",
    "# val_accuracy = history.history['val_accuracy']\n",
    "\n",
    "train_loss = history.history['loss']\n",
    "# val_loss = history.history['val_loss']\n",
    "\n",
    "# learning_rate = history.history['']"
   ]
  },
  {
   "cell_type": "code",
   "execution_count": 22,
   "id": "bddb6a81",
   "metadata": {},
   "outputs": [],
   "source": [
    "train_accuracy = history.history['accuracy']\n",
    "# val_accuracy = history.history['val_accuracy']\n",
    "\n",
    "train_loss = history.history['loss']\n",
    "# val_loss = history.history['val_loss']"
   ]
  },
  {
   "cell_type": "code",
   "execution_count": 23,
   "id": "97e4f020-fcb4-42b0-be46-d663b6b143fe",
   "metadata": {},
   "outputs": [
    {
     "data": {
      "text/plain": [
       "<matplotlib.legend.Legend at 0x1dedae70490>"
      ]
     },
     "execution_count": 23,
     "metadata": {},
     "output_type": "execute_result"
    },
    {
     "data": {
      "image/png": "[encoded data removed]",
      "text/plain": [
       "<Figure size 800x600 with 2 Axes>"
      ]
     },
     "metadata": {},
     "output_type": "display_data"
    }
   ],
   "source": [
    "train_accuracy = history.history['accuracy']\n",
    "# val_accuracy = history.history['val_accuracy']\n",
    "\n",
    "train_loss = history.history['loss']\n",
    "# val_loss = history.history['val_loss']\n",
    "\n",
    "fig, ax = plt.subplots(nrows=2, ncols=1, figsize=(8, 6))\n",
    "\n",
    "ax[0].set_title('Training/Validation Accuracy vs. Epochs')\n",
    "ax[0].plot(train_accuracy, '--', label='Train Accuracy')\n",
    "# ax[0].plot(val_accuracy, '--', label='Validation Accuracy')\n",
    "ax[0].set_xlabel('Epochs')\n",
    "ax[0].set_ylabel('Accuracy')\n",
    "ax[0].legend(loc='best')\n",
    "\n",
    "ax[1].set_title('Training/Validation Loss vs. Epochs')\n",
    "ax[1].plot(train_loss, '--', label='Train Loss')\n",
    "# ax[1].plot(val_loss, '--', label='Validation Loss')\n",
    "ax[1].set_xlabel('Epochs')\n",
    "ax[1].set_ylabel('Loss')\n",
    "ax[1].legend(loc='best')\n",
    "plt.savefig('trainreport.png')"
   ]
  },
  {
   "cell_type": "code",
   "execution_count": null,
   "id": "7349e45d-2b59-4073-bbea-63d709216563",
   "metadata": {},
   "outputs": [],
   "source": []
  }
 ],
 "metadata": {
  "kernelspec": {
   "display_name": "Python 3 (ipykernel)",
   "language": "python",
   "name": "python3"
  },
  "language_info": {
   "codemirror_mode": {
    "name": "ipython",
    "version": 3
   },
   "file_extension": ".py",
   "mimetype": "text/x-python",
   "name": "python",
   "nbconvert_exporter": "python",
   "pygments_lexer": "ipython3",
   "version": "3.9.16"
  },
  "widgets": {
   "application/vnd.jupyter.widget-state+json": {
    "state": {},
    "version_major": 2,
    "version_minor": 0
   }
  }
 },
 "nbformat": 4,
 "nbformat_minor": 5
}
